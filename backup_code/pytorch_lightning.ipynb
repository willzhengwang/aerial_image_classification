{
 "cells": [
  {
   "cell_type": "markdown",
   "metadata": {},
   "source": [
    "# Implementation with Pytorch Lightning \n",
    "\n",
    "https://pytorch-lightning.readthedocs.io/en/latest/notebooks/course_UvA-DL/04-inception-resnet-densenet.html\n",
    "\n",
    "https://pytorch-lightning.readthedocs.io/en/stable/starter/new-project.html"
   ]
  },
  {
   "cell_type": "code",
   "execution_count": null,
   "metadata": {},
   "outputs": [
    {
     "ename": "",
     "evalue": "",
     "output_type": "error",
     "traceback": [
      "\u001b[1;31mRunning cells with 'Python 3.7.11 ('torch')' requires ipykernel package.\n",
      "Run the following command to install 'ipykernel' into the Python environment. \n",
      "Command: 'conda install -n torch ipykernel --update-deps --force-reinstall'"
     ]
    }
   ],
   "source": [
    "! pip install --quiet pytorch-lightning"
   ]
  },
  {
   "cell_type": "code",
   "execution_count": null,
   "metadata": {},
   "outputs": [],
   "source": [
    "import imp\n",
    "import os\n",
    "from pyexpat import model\n",
    "from idna import valid_string_length\n",
    "import numpy as np\n",
    "import matplotlib.pyplot as plt\n",
    "from PIL import Image\n",
    "\n",
    "import torch\n",
    "from torch import nn\n",
    "import torch.nn.functional as F\n",
    "from torchvision.datasets import MNIST\n",
    "from torch.utils.data import DataLoader\n",
    "from torchvision import transforms, utils\n",
    "import pytorch_lightning as pl\n",
    "\n",
    "from dataloader import AerialDataset, NAME_CLASSES\n",
    "from seg_module import train_model"
   ]
  },
  {
   "cell_type": "code",
   "execution_count": null,
   "metadata": {},
   "outputs": [],
   "source": [
    "data_set = AerialDataset(root='../aerial_dataset', train=True)\n",
    "pl.seed_everything(42)\n",
    "n_train = int(len(data_set) * 0.9)\n",
    "train_set, val_set = torch.utils.data.random_split(data_set, [n_train, len(data_set) - n_train])\n",
    "# img, label = train_set[0]\n",
    "# img = torch.mul(img, 255).byte()\n",
    "# f, axarr = plt.subplots(1, 2)\n",
    "# axarr[0].imshow(img.permute(1, 2, 0))\n",
    "# axarr[1].imshow(label)\n",
    "# plt.show()\n",
    "\n",
    "# We define a set of data loaders that we can use for various purposes later.\n",
    "train_loader = DataLoader(train_set, batch_size=4, shuffle=True, drop_last=True, pin_memory=True, num_workers=4)\n",
    "val_loader = DataLoader(val_set, batch_size=4, shuffle=False, drop_last=False, num_workers=2)\n",
    "device = torch.device(\"cuda:0\") if torch.cuda.is_available() else torch.device(\"cpu\")\n",
    "\n",
    "\n",
    "unet_model, unet_results = train_model(\n",
    "\"UNet\",\n",
    "train_loader,\n",
    "val_loader,\n",
    "device=device,\n",
    "max_epochs=10,\n",
    "model_hparams={\"num_classes\":len(NAME_CLASSES), \"input_channels\": 3},\n",
    "optimizer_name=\"Adam\",\n",
    "optimizer_hparams={\"lr\": 1e-3})\n",
    "    \n",
    "print(\"unet_model\", unet_results)\n",
    "print('Testing is done!')\n",
    "    "
   ]
  }
 ],
 "metadata": {
  "interpreter": {
   "hash": "0c0995c6b1f0c6aff0a6ec92f472ee82e92038222c855613d81708e1126a8f7a"
  },
  "kernelspec": {
   "display_name": "Python 3.9.7 ('torch')",
   "language": "python",
   "name": "python3"
  },
  "language_info": {
   "codemirror_mode": {
    "name": "ipython",
    "version": 3
   },
   "file_extension": ".py",
   "mimetype": "text/x-python",
   "name": "python",
   "nbconvert_exporter": "python",
   "pygments_lexer": "ipython3",
   "version": "3.7.11"
  },
  "orig_nbformat": 4
 },
 "nbformat": 4,
 "nbformat_minor": 2
}
