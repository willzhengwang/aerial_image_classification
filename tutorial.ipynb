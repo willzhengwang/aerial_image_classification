{
 "cells": [
  {
   "cell_type": "markdown",
   "metadata": {},
   "source": [
    "# U-Net for Semantic Segmentation on Unbalanced Aerial Imagery\n"
   ]
  },
  {
   "cell_type": "markdown",
   "metadata": {},
   "source": [
    "Read the article at [Towards data science](https://towardsdatascience.com/u-net-for-semantic-segmentation-on-unbalanced-aerial-imagery-3474fa1d3e56)"
   ]
  },
  {
   "cell_type": "markdown",
   "metadata": {},
   "source": [
    "## Unzip dataset"
   ]
  },
  {
   "cell_type": "code",
   "execution_count": 10,
   "metadata": {},
   "outputs": [],
   "source": [
    "# download dataset from \"https://drive.google.com/u/0/uc?id=1uJDMDv0bRqu30_b6kEGZjW0S4Sr6TBOi&export=download\"\n",
    "\n",
    "import shutil  \n",
    "filename = \"./Semantic segmentation of aerial imagery.zip\"\n",
    "extract_dir = \"./\"\n",
    "archive_format = \"zip\"\n",
    "\n",
    "shutil.unpack_archive(filename, extract_dir, archive_format) "
   ]
  },
  {
   "cell_type": "markdown",
   "metadata": {},
   "source": [
    "## Training"
   ]
  },
  {
   "cell_type": "code",
   "execution_count": 11,
   "metadata": {},
   "outputs": [
    {
     "name": "stdout",
     "output_type": "stream",
     "text": [
      "Number of data : 72\n",
      "test data : 7\n",
      "\n",
      "[Epoch 0/2] [Batch 0/33] [Loss: 1.570523 (1.570523)]\n",
      "[Epoch 0/2] [Batch 1/33] [Loss: 1.419828 (1.495176)]\n",
      "[Epoch 0/2] [Batch 2/33] [Loss: 1.635502 (1.541951)]\n",
      "[Epoch 0/2] [Batch 3/33] [Loss: 1.216439 (1.460573)]\n",
      "[Epoch 0/2] [Batch 4/33] [Loss: 1.115803 (1.391619)]\n",
      "[Epoch 0/2] [Batch 5/33] [Loss: 1.545698 (1.417299)]\n",
      "[Epoch 0/2] [Batch 6/33] [Loss: 1.281903 (1.397957)]\n",
      "[Epoch 0/2] [Batch 7/33] [Loss: 1.265271 (1.381371)]\n",
      "[Epoch 0/2] [Batch 8/33] [Loss: 0.919163 (1.330014)]\n",
      "[Epoch 0/2] [Batch 9/33] [Loss: 1.406972 (1.337710)]\n",
      "[Epoch 0/2] [Batch 10/33] [Loss: 0.984000 (1.305555)]\n",
      "[Epoch 0/2] [Batch 11/33] [Loss: 0.884090 (1.270433)]\n",
      "[Epoch 0/2] [Batch 12/33] [Loss: 0.918141 (1.243333)]\n",
      "[Epoch 0/2] [Batch 13/33] [Loss: 0.880535 (1.217419)]\n",
      "[Epoch 0/2] [Batch 14/33] [Loss: 1.285458 (1.221955)]\n",
      "[Epoch 0/2] [Batch 15/33] [Loss: 0.791899 (1.195077)]\n",
      "[Epoch 0/2] [Batch 16/33] [Loss: 0.720790 (1.167177)]\n",
      "[Epoch 0/2] [Batch 17/33] [Loss: 1.047363 (1.160521)]\n",
      "[Epoch 0/2] [Batch 18/33] [Loss: 0.921020 (1.147916)]\n",
      "[Epoch 0/2] [Batch 19/33] [Loss: 1.327467 (1.156893)]\n",
      "[Epoch 0/2] [Batch 20/33] [Loss: 1.251421 (1.161395)]\n",
      "[Epoch 0/2] [Batch 21/33] [Loss: 0.901546 (1.149583)]\n",
      "[Epoch 0/2] [Batch 22/33] [Loss: 0.813873 (1.134987)]\n",
      "[Epoch 0/2] [Batch 23/33] [Loss: 1.168082 (1.136366)]\n",
      "[Epoch 0/2] [Batch 24/33] [Loss: 0.847167 (1.124798)]\n",
      "[Epoch 0/2] [Batch 25/33] [Loss: 0.992579 (1.119713)]\n",
      "[Epoch 0/2] [Batch 26/33] [Loss: 0.641205 (1.101990)]\n",
      "[Epoch 0/2] [Batch 27/33] [Loss: 0.915920 (1.095345)]\n",
      "[Epoch 0/2] [Batch 28/33] [Loss: 1.074774 (1.094636)]\n",
      "[Epoch 0/2] [Batch 29/33] [Loss: 0.732019 (1.082548)]\n",
      "[Epoch 0/2] [Batch 30/33] [Loss: 0.531569 (1.064775)]\n",
      "[Epoch 0/2] [Batch 31/33] [Loss: 0.926037 (1.060439)]\n",
      "[Epoch 0/2] [Batch 32/33] [Loss: 1.535817 (1.074845)] epoch 0 - loss : 1.07484 - val loss : 0.85285\n",
      "\n",
      "[Epoch 1/2] [Batch 0/33] [Loss: 1.176346 (1.176346)]\n",
      "[Epoch 1/2] [Batch 1/33] [Loss: 0.623049 (0.899698)]\n",
      "[Epoch 1/2] [Batch 2/33] [Loss: 0.824851 (0.874749)]\n",
      "[Epoch 1/2] [Batch 3/33] [Loss: 0.824296 (0.862136)]\n",
      "[Epoch 1/2] [Batch 4/33] [Loss: 0.625901 (0.814889)]\n",
      "[Epoch 1/2] [Batch 5/33] [Loss: 0.880468 (0.825819)]\n",
      "[Epoch 1/2] [Batch 6/33] [Loss: 1.043558 (0.856924)]\n",
      "[Epoch 1/2] [Batch 7/33] [Loss: 1.073645 (0.884014)]\n",
      "[Epoch 1/2] [Batch 8/33] [Loss: 0.870202 (0.882480)]\n",
      "[Epoch 1/2] [Batch 9/33] [Loss: 0.759421 (0.870174)]\n",
      "[Epoch 1/2] [Batch 10/33] [Loss: 1.290275 (0.908365)]\n",
      "[Epoch 1/2] [Batch 11/33] [Loss: 0.570421 (0.880203)]\n",
      "[Epoch 1/2] [Batch 12/33] [Loss: 1.300935 (0.912567)]\n",
      "[Epoch 1/2] [Batch 13/33] [Loss: 0.718843 (0.898729)]\n",
      "[Epoch 1/2] [Batch 14/33] [Loss: 1.168896 (0.916741)]\n",
      "[Epoch 1/2] [Batch 15/33] [Loss: 0.991722 (0.921427)]\n",
      "[Epoch 1/2] [Batch 16/33] [Loss: 0.657889 (0.905925)]\n",
      "[Epoch 1/2] [Batch 17/33] [Loss: 1.062768 (0.914638)]\n",
      "[Epoch 1/2] [Batch 18/33] [Loss: 0.786919 (0.907916)]\n",
      "[Epoch 1/2] [Batch 19/33] [Loss: 0.521236 (0.888582)]\n",
      "[Epoch 1/2] [Batch 20/33] [Loss: 1.239008 (0.905269)]\n",
      "[Epoch 1/2] [Batch 21/33] [Loss: 0.959929 (0.907754)]\n",
      "[Epoch 1/2] [Batch 22/33] [Loss: 0.521815 (0.890974)]\n",
      "[Epoch 1/2] [Batch 23/33] [Loss: 1.190181 (0.903441)]\n",
      "[Epoch 1/2] [Batch 24/33] [Loss: 0.955929 (0.905540)]\n",
      "[Epoch 1/2] [Batch 25/33] [Loss: 0.692246 (0.897337)]\n",
      "[Epoch 1/2] [Batch 26/33] [Loss: 0.705160 (0.890219)]\n",
      "[Epoch 1/2] [Batch 27/33] [Loss: 0.587765 (0.879417)]\n",
      "[Epoch 1/2] [Batch 28/33] [Loss: 0.875069 (0.879267)]\n",
      "[Epoch 1/2] [Batch 29/33] [Loss: 0.715596 (0.873811)]\n",
      "[Epoch 1/2] [Batch 30/33] [Loss: 0.776434 (0.870670)]\n",
      "[Epoch 1/2] [Batch 31/33] [Loss: 0.541104 (0.860371)]\n",
      "[Epoch 1/2] [Batch 32/33] [Loss: 1.301719 (0.873745)] epoch 1 - loss : 0.87375 - val loss : 0.78682\n"
     ]
    }
   ],
   "source": [
    "!python train.py --num_epochs 2 --batch 2 --loss focalloss"
   ]
  },
  {
   "cell_type": "markdown",
   "metadata": {},
   "source": [
    "## Validation"
   ]
  },
  {
   "cell_type": "code",
   "execution_count": 12,
   "metadata": {},
   "outputs": [],
   "source": [
    "# under development! (:D)"
   ]
  }
 ],
 "metadata": {
  "kernelspec": {
   "display_name": "Python 3",
   "language": "python",
   "name": "python3"
  },
  "language_info": {
   "codemirror_mode": {
    "name": "ipython",
    "version": 3
   },
   "file_extension": ".py",
   "mimetype": "text/x-python",
   "name": "python",
   "nbconvert_exporter": "python",
   "pygments_lexer": "ipython3",
   "version": "3.8.5"
  }
 },
 "nbformat": 4,
 "nbformat_minor": 4
}
